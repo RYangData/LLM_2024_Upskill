{
 "cells": [
  {
   "cell_type": "code",
   "execution_count": 2,
   "metadata": {},
   "outputs": [
    {
     "name": "stdout",
     "output_type": "stream",
     "text": [
      "Collecting py-readability-metrics\n",
      "  Downloading py_readability_metrics-1.4.5-py3-none-any.whl.metadata (8.8 kB)\n",
      "Requirement already satisfied: nltk in /usr/local/python/3.10.13/lib/python3.10/site-packages (from py-readability-metrics) (3.8.1)\n",
      "Requirement already satisfied: click in /usr/local/python/3.10.13/lib/python3.10/site-packages (from nltk->py-readability-metrics) (8.1.7)\n",
      "Requirement already satisfied: joblib in /home/codespace/.local/lib/python3.10/site-packages (from nltk->py-readability-metrics) (1.3.2)\n",
      "Requirement already satisfied: regex>=2021.8.3 in /usr/local/python/3.10.13/lib/python3.10/site-packages (from nltk->py-readability-metrics) (2023.12.25)\n",
      "Requirement already satisfied: tqdm in /usr/local/python/3.10.13/lib/python3.10/site-packages (from nltk->py-readability-metrics) (4.66.2)\n",
      "Downloading py_readability_metrics-1.4.5-py3-none-any.whl (26 kB)\n",
      "Installing collected packages: py-readability-metrics\n",
      "Successfully installed py-readability-metrics-1.4.5\n"
     ]
    }
   ],
   "source": [
    "! pip install py-readability-metrics"
   ]
  },
  {
   "cell_type": "code",
   "execution_count": 3,
   "metadata": {},
   "outputs": [
    {
     "name": "stdout",
     "output_type": "stream",
     "text": [
      "/usr/local/python/3.10.13/lib/python3.10/runpy.py:126: RuntimeWarning: 'nltk.downloader' found in sys.modules after import of package 'nltk', but prior to execution of 'nltk.downloader'; this may result in unpredictable behaviour\n",
      "  warn(RuntimeWarning(msg))\n",
      "[nltk_data] Downloading package punkt to /home/codespace/nltk_data...\n",
      "[nltk_data]   Unzipping tokenizers/punkt.zip.\n"
     ]
    }
   ],
   "source": [
    "! python -m nltk.downloader punkt"
   ]
  },
  {
   "cell_type": "code",
   "execution_count": 4,
   "metadata": {},
   "outputs": [],
   "source": [
    "text = \"\"\"Privacy Policy\n",
    "This is a Privacy Policy\n",
    "Gilbert + Tobin (G+T) understands that privacy and how we collect, use, disclose and protect your information is important to you. We are committed to ensuring the privacy of your information and to complying with the Australian Privacy Principles (APPs), which are contained in the Privacy Act 1988 (Privacy Act).\n",
    "This policy details how we will collect, use and disclose \u001cpersonal information\u001d is information or an opinion (whether true or not) about an identified, or reasonably identifiable, individual.\n",
    "________________________________________\n",
    "1. What Personal Information does G+T collect and hold?\n",
    "G+T is a leading independent corporate Australian law firm. The types of personal information that G+T collects will depend on the nature of your dealings with us. Please note that, while we seek to minimise the personal information we collect, if you do not provide us with the personal information we request, we may not be able to provide you with the services, information or other assistance you seek.\n",
    "We may collect personal information from you where:\n",
    "\"\tyou, or the company that you work for, engage our services (legal or otherwise);\n",
    "\"\tyou, as the client, purchase or subscribe to client services offered on the G+T platform including \u001cSmart Skills\u001d and \u001cSmart Counsel\u001d;\n",
    "\"\tyou subscribe to or opt-in to receiving a G+T newsletter or other form of G+T updates (such as our online publications);\n",
    "\"\tyou subscribe to any of our websites (or sub-domains such as our Careers page) or to one of our mailing lists;\n",
    "\"\tyou register for or attend a G+T seminar, webinar or other hosted event (virtual or in person);\n",
    "\"\tyou correspond with our employees or Partners;\n",
    "\"\tyou have business dealings with us (whether as one of our suppliers, or as a regulator we deal with, or in the context of a transaction);\n",
    "\"\tyou, or the company that you work for, is a counterparty, or provides services to a counterparty, of our client;\n",
    "\"\tyou attend an information session or recruitment event with us (e.g. a university careers event) (virtual or in person);\n",
    "\"\tyou apply, or register your interest for, employment or a work placement opportunity with G+T (see section 8 of this policy);\n",
    "\"\tyou otherwise provide our personal information to us, such as where you supply your business card to us; or\n",
    "\"\tit is required by law to do so.\n",
    "For detailed information as to how we collect, use and disclose the personal information of job applicants, please refer to section 8 of this policy.\n",
    "The personal information we will collect from you may include your name, title, address and e-mail address and contact numbers (telephone, fax, mobile). If necessary for the purposes of providing advice to you, or for providing you with other information (such as email updates) sometimes we may collect other personal information from you, such as the areas of our practice or related expertise which you are interested in. However, we endeavour not to collect personal information that we do not need.\n",
    "Generally, we endeavour to collect personal information directly from the individuals concerned.  However, if this is not practicable, we may collect personal information about individuals from third parties, including from publicly available sources. If we do, we will take reasonable steps to ensure that the individuals concerned are made aware of the collection of their information.\n",
    "If you are one of G+T\u0019s \u0018business contacts\u0019 (e.g. a person working for one of our clients or suppliers, or in a government agency or other company with which we deal when you correspond with one of our employees or Partners or a contact person in one of our suppliers, or in a government agency or company with which we deal)  we may collect basic business contact information from you (e.g. your name, title and work contact details) automatically using the details in your email signature.\n",
    "G+T will not ask to collect sensitive information about you (such as details of your racial or ethnic origin, political affiliation, religious beliefs, sexual preferences, criminal convictions or health information) except where it is needed for the purposes of providing legal advice, as part of our equal employment opportunities policy, for the purpose of assessing dietary requirements or another reason for which we have your consent and collection is necessary for that purpose.\n",
    "________________________________________\n",
    "2. How does G+T use Personal Information?\n",
    "G+T\u0019s policy is only to use personal information collected from business contacts for the business purpose for which it was collected, or as otherwise provided for in this policy. Personal information collected from other persons (such as prospective employees, subscriber to our knowledge services, etc) is similarly used to fulfil the purposes for which information was collected in the first place, or occasionally for reasonably related purposes.\n",
    "G+T uses your personal information:\n",
    "\"\tto provide you with our products and services;\n",
    "\"\tin connection with the fulfillment of a legal or regulatory obligation;\n",
    "\"\tto send legal or other updates relevant to us or you and to market our products and services to you;\n",
    "\"\tin connection with your job application (see section 8 of this policy);\n",
    "\"\twhere we have a legitimate interest that is not overridden by your rights under the law;\n",
    "\"\tfor any reason that you (or your organisation) has provided consent;\n",
    "\"\tif you are a client, where we have a job applicant or employee that we believe may be suitable for a role in your company;\n",
    "\"\tfor the performance of a contract with you or your company;\n",
    "\"\tto respond to any enquiries or complaints; and\n",
    "\"\tto conduct our business.\n",
    "We also collect personal information so that we can communicate new legal or firm developments, including advertising products or services (including events) that we offer, to our clients and to those people who have subscribed to our website, alert services or mailing lists.\n",
    "If, at any time, you do not wish to receive these kinds of communications, please let us know using the contact details set out in section 9 below.\n",
    "________________________________________\n",
    "3. Will Your Personal Information be given to anyone else?\n",
    "G+T does not sell or trade personal information about you to or with third parties. Personal information may be disclosed to others by G+T in the circumstances described below:\n",
    "Disclosures to external service providers\n",
    "G+T may disclose personal information to external service providers who provide services to you or us, including those who help us operate our business. Examples of our external service providers include: third party data storage providers; IT and other software and systems providers; companies who provide photocopying and archiving services; advertising and marketing agencies who assist us with our campaigns and programs, and research organisations and consultants who conduct research on our behalf. If G+T engages external service providers, G+T takes steps to ensure that those external service providers: comply with the APPs when they handle personal information about you; and are authorised only to use personal information that we provide to them for the purposes specified in our agreement with them.\n",
    "Smart Skills\n",
    "G+T may disclose your personal information to its in-house built platform Smart Skills for the purpose of G+T providing to you a learning management system and associated services via a hosted platform. Smart Skills is required to handle your personal information at all times in accordance with its company privacy policy, which can be viewed at: https://smartskills.gtlaw.com.au/admin/tool/gtprivacypolicy/privacypolicy.php and may use and disclose your personal information in accordance with such policy.\n",
    "OnePlace\n",
    "G+T uses the third party customer records management system \u001cOnePlace\u001d for certain information that we collect (which may contain personal information), including:\n",
    "\"\tcontact details contained in the footer of clients\u0019 emails (this does not include personal email domains and only includes contacts where the company already exists in OnePlace);\n",
    "\"\tdetails in online forms where clients can subscribe to G+T information and/or events;\n",
    "\"\twhere clients opt into marketing communications;\n",
    "\"\twhere clients sign up to events via the G+T website;\n",
    "\"\twhere clients attend an event and provide their contact details at the event;\n",
    "\"\twhere individuals access webinars (using their name and email address), including those who have been forwarded the webinar link from a third party; and\n",
    "\"\twhere clients manually add or update their details and areas of interest themselves in OnePlace.\n",
    "Client details that are added into OnePlace are used to market G+Ts services to them, such as future seminars or webinars that may be of interest to that client, and including where the client has not opted in to receiving marketing communications from G+T. If, at any time, you do not wish to receive these kinds of communications, please let us know using the contact details set out in section 9 below.\n",
    "Disclosures overseas\n",
    "Where G+T engages external information technology service providers, we ensure that wherever possible, our data is stored within Australia. Some of our vendors do however store data in overseas locations, such as the UK, New Zealand, USA, and South Africa. In applicable situations, G+T takes reasonable steps to ensure that any overseas recipient does not breach the APPs in relation to that information. Such overseas disclosures are only made in connection with the primary purpose for which the personal information has been collected.\n",
    "Disclosures required or permitted by law\n",
    "Otherwise than in the situations described above, G+T will only disclose personal information if this is required or permitted by law including under the Privacy Act. G+T is also bound by professional obligations of confidentiality, including in relation to personal information.\n",
    "________________________________________\n",
    "4. Security of Personal Information\n",
    "G+T takes reasonable steps to ensure the security of your personal information. Our premises are in secure buildings with access restricted to pass card holders. Our IT systems are secured against external threats by various means, password protected and tested through regular audit and data integrity checks. We frequently update our anti-virus software in order to protect our systems (and the data contained in those systems) from computer viruses. In addition, all G+T employees are required, as a condition of employment, to treat personal information held by G+T as confidential.\n",
    "________________________________________\n",
    "5. Your Rights\n",
    "Under the Privacy Act, you have the right to:\n",
    "\"\tseek access to your personal information handled by G+T;\n",
    "\"\task us to update or correct your personal information when it is inaccurate, incomplete or out of date; and\n",
    "\"\topt-out of receiving direct marketing communications from us.\n",
    "If you wish to access the personal information that G+T holds about you, please set out your request in writing, and forward this to our Privacy Officer, using the contact details set out at the end of this policy.\n",
    "To provide you with access to your personal information held by us on our current records, G+T can provide you with a copy of the relevant personal information (ordinarily, an electronic print-out or a photocopy). G+T will not charge you for the cost of providing this type of access to these current records.\n",
    "For legal and administrative reasons, G+T may also archive non-current records containing personal information, such as back up data files and offsite storage. Please note that if we do provide access to old records, we may charge you for the cost of providing such access.\n",
    "If you are of the view that personal information about you is inaccurate or out of date, or if you have any other queries about access and correction, please contact our Privacy Officer using the contact details set out in section 9 below.\n",
    "________________________________________\n",
    "6. Online Privacy Issues\n",
    "Use of cookies\n",
    "When you visit our website, a small data file called a \"cookie\" may be stored on your internet enabled device. We use cookies or similar digital markers to maintain user sessions and track the behaviour of website visitors. This enables us to keep our site relevant and useful. However, generally this information will not identify you. We do not link this information back to your identity or other information that you have provided to us.\n",
    "We and our service providers also use cookies and other digital markers (e.g. Clear GIFs\u0019) to assist us with our online marketing services and advertise to our website visitors on other third-party websites or platforms (e.g. Google Ads Services or LinkedIn). Cookies placed on third party websites help us to monitor the efficacy of our business relationships with third parties, improve performance as well as personalise your experience when you visit our and our service providers\u0019 websites. When you visit other websites or platforms, you may see an advertisement for Gilbert + Tobin\u0019s products or services because you have previously visited our website. Gilbert + Tobin may disclose the information collected via use of cookies on our websites to third parties for marketing purposes.\n",
    "By using our website(s) and not opting-out of cookies, you consent to our use of cookies in accordance with the terms of this Privacy Policy.\n",
    "Most web browsers are set by default to accept cookies. However, if you do not wish to receive cookies you may set your browser to either prompt or refuse cookies (including Gilbert + Tobin\u0019s cookies). If you use your browser settings to block all cookies, you may not be able to access and/or use all or parts of our website.\n",
    "Access to other websites\n",
    "Sometimes our website contains links to other websites, for your convenience and information. When you access a website other than www.gtlaw.com.au, please understand that G+T is not responsible for the privacy practices of that site. We suggest that you review the privacy policies of each site you visit.\n",
    "________________________________________\n",
    "7. Making a complaint\n",
    "If you wish to make a complaint about how G+T handles your personal information, please contact us setting out your complaint in writing, and forward it to our Privacy Officer, using the contact details in section 9 of this policy.\n",
    "We will deal with all requests for access to personal information or complaints as quickly as possible and will endeavour to get back to you within a reasonable timeframe.\n",
    "If you are not satisfied with our response to your complaint you can make a formal complaint to the Office of the Australian Information Commissioner through their website at https://www.oaic.gov.au/, by emailing enquiries@oaic.gov.au or by calling 1300 363 992.\n",
    "________________________________________\n",
    "8. How do we handle the personal information of job applicants?\n",
    "G+T collects information about and from individuals who apply for employment with G+T including job placements and internships. The information we collect may include an individual\u0019s personal information, and includes the applicant\u0019s:\n",
    "\"\tcontact details;\n",
    "\"\tgender;\n",
    "\"\tin some cases, racial background (see below);\n",
    "\"\teducational and employment history, and relevant qualifications;\n",
    "\"\teligibility to work in Australia; and\n",
    "\"\treferees\u0019 contact details.\n",
    "In addition, G+T may collect any personal information that an individual chooses to disclose during the process of an application, which could include sensitive information.\n",
    "We may collect this information directly from the job applicant, such as via the G+T platform including \u001cG+T Talent Community\u001d or \u001cPeople On Demand\u001d, in response to an advertised job listing, or indirectly from a third party, including from a recruitment agency. If necessary, we will also collect information about applicants from referees and from other public sources, such as professional social networking sites like LinkedIn.\n",
    "If the applicant proceeds to the interview stage, we will collect further information about the applicant\u0019s participation in and performance during any interview.\n",
    "G+T is committed to a policy of diversity and inclusion. For this reason, we also collect information as to whether a job applicant identifies as Aboriginal or Torres Strait Islander. We collect this information for the sole purpose of monitoring the implementation of our equal employment opportunities policy. G+T will not use this information for any other purpose.\n",
    "If you do not provide with us the information we request, we may not be able to process or assess your job application.\n",
    "G+T uses the personal information we collect about job applicants to assess their eligibility and suitability for employment with the firm. Generally, our assessment of applicants\u0019 personal information will relate to a particular role. However, we may also retain and use applicants\u0019 personal information to assess their suitability for other roles with the firm. We may disclose personal information to service providers that conduct background and eligibility checks on our behalf. In some cases, we may send details of your application to our clients if they are looking to fill a role internally that we believe an applicant may be eligible for.\n",
    "G+T stores all personal information relating to our job applicants in Australia and that information is not accessible to third parties located outside Australia.\n",
    "________________________________________\n",
    "9. Additional Privacy Information and How to Contact G+T\n",
    "This G+T Privacy Policy may change from time to time. The G+T Privacy Policy will be made available to anyone who requests it, whether at our offices or by use of our website.\n",
    "If you have any questions or comments about the G+T Privacy Policy, please set out your request in writing, and forward this to our Privacy Officer, using the contact details below.\n",
    "Email: GTPrivacy@gtlaw.com.au\n",
    "Audience: Privacy Officer and Delegates\n",
    "Post: Gilbert + Tobin, GPO Box 3810, Sydney NSW 2001\n",
    "Telephone: + 61 2 9263 4000\n",
    "Fax: + 61 2 9263 4111\n",
    " \n",
    "This Privacy Policy applies to:\n",
    "\"\tThe Gilbert + Tobin partnership\n",
    "\"\tThe G+T Services Company Pty Limited.\n",
    " \n",
    "Our Privacy Policy was last reviewed on 28 September 2023\"\"\""
   ]
  },
  {
   "cell_type": "code",
   "execution_count": 5,
   "metadata": {},
   "outputs": [
    {
     "data": {
      "text/plain": [
       "(<readability.scorers.spache.Result at 0x7ed0b53cbdc0>,)"
      ]
     },
     "execution_count": 5,
     "metadata": {},
     "output_type": "execute_result"
    }
   ],
   "source": [
    "from readability import Readability\n",
    "\n",
    "r = Readability(text)\n",
    "\n",
    "r.flesch_kincaid(),\n",
    "r.flesch(),\n",
    "r.gunning_fog(),\n",
    "r.coleman_liau(),\n",
    "r.dale_chall(),\n",
    "r.ari(),\n",
    "r.linsear_write(),\n",
    "r.smog(),\n",
    "r.spache(),"
   ]
  },
  {
   "cell_type": "code",
   "execution_count": 8,
   "metadata": {},
   "outputs": [
    {
     "name": "stdout",
     "output_type": "stream",
     "text": [
      "15.045128295040481\n",
      "15\n"
     ]
    }
   ],
   "source": [
    "fk = r.flesch_kincaid()\n",
    "print(fk.score)\n",
    "print(fk.grade_level)"
   ]
  },
  {
   "cell_type": "code",
   "execution_count": 9,
   "metadata": {},
   "outputs": [
    {
     "name": "stdout",
     "output_type": "stream",
     "text": [
      "36.162424875364025\n",
      "difficult\n",
      "['college']\n"
     ]
    }
   ],
   "source": [
    "f = r.flesch()\n",
    "print(f.score)\n",
    "print(f.ease)\n",
    "print(f.grade_levels)"
   ]
  },
  {
   "cell_type": "code",
   "execution_count": 11,
   "metadata": {},
   "outputs": [
    {
     "name": "stdout",
     "output_type": "stream",
     "text": [
      "11.192975095668613\n",
      "['college_graduate']\n"
     ]
    }
   ],
   "source": [
    "dc = r.dale_chall()\n",
    "print(dc.score)\n",
    "print(dc.grade_levels)"
   ]
  },
  {
   "cell_type": "code",
   "execution_count": 12,
   "metadata": {},
   "outputs": [
    {
     "name": "stdout",
     "output_type": "stream",
     "text": [
      "15.40976432742297\n",
      "['college_graduate']\n",
      "[24, 100]\n"
     ]
    }
   ],
   "source": [
    "ari = r.ari()\n",
    "print(ari.score)\n",
    "print(ari.grade_levels)\n",
    "print(ari.ages)"
   ]
  },
  {
   "cell_type": "code",
   "execution_count": 13,
   "metadata": {},
   "outputs": [
    {
     "name": "stdout",
     "output_type": "stream",
     "text": [
      "11.277468189233279\n",
      "11\n"
     ]
    }
   ],
   "source": [
    "cl = r.coleman_liau()\n",
    "print(cl.score)\n",
    "print(cl.grade_level)"
   ]
  },
  {
   "cell_type": "code",
   "execution_count": 14,
   "metadata": {},
   "outputs": [
    {
     "name": "stdout",
     "output_type": "stream",
     "text": [
      "18.270341967648\n",
      "college_graduate\n"
     ]
    }
   ],
   "source": [
    "gf = r.gunning_fog()\n",
    "print(gf.score)\n",
    "print(gf.grade_level)"
   ]
  },
  {
   "cell_type": "code",
   "execution_count": 15,
   "metadata": {},
   "outputs": [
    {
     "name": "stdout",
     "output_type": "stream",
     "text": [
      "16.80791676169397\n",
      "17\n"
     ]
    }
   ],
   "source": [
    "s = r.smog()\n",
    "print(s.score)\n",
    "print(s.grade_level)"
   ]
  },
  {
   "cell_type": "code",
   "execution_count": 16,
   "metadata": {},
   "outputs": [
    {
     "name": "stdout",
     "output_type": "stream",
     "text": [
      "16.802713005231002\n",
      "17\n"
     ]
    }
   ],
   "source": [
    "s = r.smog(all_sentences=True)\n",
    "print(s.score)\n",
    "print(s.grade_level)"
   ]
  },
  {
   "cell_type": "code",
   "execution_count": 17,
   "metadata": {},
   "outputs": [
    {
     "name": "stdout",
     "output_type": "stream",
     "text": [
      "8.441383634949915\n",
      "8\n"
     ]
    }
   ],
   "source": [
    "s = r.spache()\n",
    "print(s.score)\n",
    "print(s.grade_level)"
   ]
  },
  {
   "cell_type": "code",
   "execution_count": 18,
   "metadata": {},
   "outputs": [
    {
     "name": "stdout",
     "output_type": "stream",
     "text": [
      "20.05140186915888\n",
      "20\n"
     ]
    }
   ],
   "source": [
    "lw = r.linsear_write()\n",
    "print(lw.score)\n",
    "print(lw.grade_level)"
   ]
  },
  {
   "cell_type": "code",
   "execution_count": 21,
   "metadata": {},
   "outputs": [
    {
     "ename": "TypeError",
     "evalue": "'<=' not supported between instances of 'Result' and 'int'",
     "output_type": "error",
     "traceback": [
      "\u001b[0;31m---------------------------------------------------------------------------\u001b[0m",
      "\u001b[0;31mTypeError\u001b[0m                                 Traceback (most recent call last)",
      "Cell \u001b[0;32mIn[21], line 85\u001b[0m\n\u001b[1;32m     82\u001b[0m table \u001b[38;5;241m+\u001b[39m\u001b[38;5;241m=\u001b[39m \u001b[38;5;124m\"\u001b[39m\u001b[38;5;124m| ----------------------------- | ----- | -------------- | ---------------------------------------------- | --------------------------- |\u001b[39m\u001b[38;5;130;01m\\n\u001b[39;00m\u001b[38;5;124m\"\u001b[39m\n\u001b[1;32m     84\u001b[0m \u001b[38;5;28;01mfor\u001b[39;00m metric, score \u001b[38;5;129;01min\u001b[39;00m metrics\u001b[38;5;241m.\u001b[39mitems():\n\u001b[0;32m---> 85\u001b[0m     interpretation, description \u001b[38;5;241m=\u001b[39m \u001b[43minterpret_score\u001b[49m\u001b[43m(\u001b[49m\u001b[43mmetric\u001b[49m\u001b[43m,\u001b[49m\u001b[43m \u001b[49m\u001b[43mscore\u001b[49m\u001b[43m)\u001b[49m\n\u001b[1;32m     86\u001b[0m     text_value \u001b[38;5;241m=\u001b[39m \u001b[38;5;124mf\u001b[39m\u001b[38;5;124m\"\u001b[39m\u001b[38;5;124mScore: \u001b[39m\u001b[38;5;132;01m{\u001b[39;00mscore\u001b[38;5;132;01m}\u001b[39;00m\u001b[38;5;124m\"\u001b[39m\n\u001b[1;32m     87\u001b[0m     table \u001b[38;5;241m+\u001b[39m\u001b[38;5;241m=\u001b[39m \u001b[38;5;124mf\u001b[39m\u001b[38;5;124m\"\u001b[39m\u001b[38;5;124m| \u001b[39m\u001b[38;5;132;01m{\u001b[39;00mmetric\u001b[38;5;132;01m:\u001b[39;00m\u001b[38;5;124m<29\u001b[39m\u001b[38;5;132;01m}\u001b[39;00m\u001b[38;5;124m | \u001b[39m\u001b[38;5;132;01m{\u001b[39;00mscore\u001b[38;5;132;01m:\u001b[39;00m\u001b[38;5;124m<5\u001b[39m\u001b[38;5;132;01m}\u001b[39;00m\u001b[38;5;124m | \u001b[39m\u001b[38;5;132;01m{\u001b[39;00minterpretation\u001b[38;5;132;01m:\u001b[39;00m\u001b[38;5;124m<14\u001b[39m\u001b[38;5;132;01m}\u001b[39;00m\u001b[38;5;124m | \u001b[39m\u001b[38;5;132;01m{\u001b[39;00mdescription\u001b[38;5;132;01m:\u001b[39;00m\u001b[38;5;124m<44\u001b[39m\u001b[38;5;132;01m}\u001b[39;00m\u001b[38;5;124m | \u001b[39m\u001b[38;5;132;01m{\u001b[39;00mtext_value\u001b[38;5;132;01m:\u001b[39;00m\u001b[38;5;124m<27\u001b[39m\u001b[38;5;132;01m}\u001b[39;00m\u001b[38;5;124m |\u001b[39m\u001b[38;5;130;01m\\n\u001b[39;00m\u001b[38;5;124m\"\u001b[39m\n",
      "Cell \u001b[0;32mIn[21], line 17\u001b[0m, in \u001b[0;36minterpret_score\u001b[0;34m(metric, score)\u001b[0m\n\u001b[1;32m     15\u001b[0m \u001b[38;5;28;01mdef\u001b[39;00m \u001b[38;5;21minterpret_score\u001b[39m(metric, score):\n\u001b[1;32m     16\u001b[0m     \u001b[38;5;28;01mif\u001b[39;00m metric \u001b[38;5;241m==\u001b[39m \u001b[38;5;124m\"\u001b[39m\u001b[38;5;124mFlesch-Kincaid Grade Level\u001b[39m\u001b[38;5;124m\"\u001b[39m:\n\u001b[0;32m---> 17\u001b[0m         \u001b[38;5;28;01mif\u001b[39;00m \u001b[43mscore\u001b[49m\u001b[43m \u001b[49m\u001b[38;5;241;43m<\u001b[39;49m\u001b[38;5;241;43m=\u001b[39;49m\u001b[43m \u001b[49m\u001b[38;5;241;43m5\u001b[39;49m:\n\u001b[1;32m     18\u001b[0m             \u001b[38;5;28;01mreturn\u001b[39;00m \u001b[38;5;124m\"\u001b[39m\u001b[38;5;124mLow\u001b[39m\u001b[38;5;124m\"\u001b[39m, \u001b[38;5;124m\"\u001b[39m\u001b[38;5;124mVery easy to read, suitable for younger audiences.\u001b[39m\u001b[38;5;124m\"\u001b[39m\n\u001b[1;32m     19\u001b[0m         \u001b[38;5;28;01melif\u001b[39;00m score \u001b[38;5;241m<\u001b[39m\u001b[38;5;241m=\u001b[39m \u001b[38;5;241m10\u001b[39m:\n",
      "\u001b[0;31mTypeError\u001b[0m: '<=' not supported between instances of 'Result' and 'int'"
     ]
    }
   ],
   "source": [
    "\n",
    "# Collecting readability scores\n",
    "metrics = {\n",
    "    \"Flesch-Kincaid Grade Level\": r.flesch_kincaid(),\n",
    "    \"Flesch Reading Ease\": r.flesch(),\n",
    "    \"Dale-Chall Readability\": r.dale_chall(),\n",
    "    \"Automated Readability Index (ARI)\": r.ari(),\n",
    "    \"Coleman Liau Index\": r.coleman_liau(),\n",
    "    \"Gunning Fog\": r.gunning_fog(),\n",
    "    \"SMOG\": r.smog(),\n",
    "    \"Spache\": r.spache(),\n",
    "    \"Linsear Write\": r.linsear_write()\n",
    "}\n",
    "\n",
    "# Interpreting the scores and providing descriptions\n",
    "def interpret_score(metric, score):\n",
    "    if metric == \"Flesch-Kincaid Grade Level\":\n",
    "        if score <= 5:\n",
    "            return \"Low\", \"Very easy to read, suitable for younger audiences.\"\n",
    "        elif score <= 10:\n",
    "            return \"Medium\", \"Fairly easy to read, suitable for most audiences.\"\n",
    "        else:\n",
    "            return \"High\", \"Difficult to read, suitable for advanced readers.\"\n",
    "    elif metric == \"Flesch Reading Ease\":\n",
    "        if score >= 80:\n",
    "            return \"High\", \"Very easy to read, easily understood by an 11-year-old.\"\n",
    "        elif score >= 50:\n",
    "            return \"Medium\", \"Fairly easy to read, suitable for most audiences.\"\n",
    "        else:\n",
    "            return \"Low\", \"Difficult to read, best understood by university graduates.\"\n",
    "    elif metric == \"Dale-Chall Readability\":\n",
    "        if score <= 5:\n",
    "            return \"Low\", \"Very easy to read, uses familiar words.\"\n",
    "        elif score <= 10:\n",
    "            return \"Medium\", \"Fairly easy to read, suitable for most audiences.\"\n",
    "        else:\n",
    "            return \"High\", \"Difficult to read, contains complex words.\"\n",
    "    elif metric == \"Automated Readability Index (ARI)\":\n",
    "        if score <= 5:\n",
    "            return \"Low\", \"Very easy to read, suitable for younger audiences.\"\n",
    "        elif score <= 10:\n",
    "            return \"Medium\", \"Fairly easy to read, suitable for most audiences.\"\n",
    "        else:\n",
    "            return \"High\", \"Difficult to read, suitable for advanced readers.\"\n",
    "    elif metric == \"Coleman Liau Index\":\n",
    "        if score <= 5:\n",
    "            return \"Low\", \"Very easy to read, suitable for younger audiences.\"\n",
    "        elif score <= 10:\n",
    "            return \"Medium\", \"Fairly easy to read, suitable for most audiences.\"\n",
    "        else:\n",
    "            return \"High\", \"Difficult to read, suitable for advanced readers.\"\n",
    "    elif metric == \"Gunning Fog\":\n",
    "        if score <= 5:\n",
    "            return \"Low\", \"Very easy to read, suitable for younger audiences.\"\n",
    "        elif score <= 12:\n",
    "            return \"Medium\", \"Fairly easy to read, suitable for most audiences.\"\n",
    "        else:\n",
    "            return \"High\", \"Difficult to read, suitable for advanced readers.\"\n",
    "    elif metric == \"SMOG\":\n",
    "        if score <= 5:\n",
    "            return \"Low\", \"Very easy to read, suitable for younger audiences.\"\n",
    "        elif score <= 10:\n",
    "            return \"Medium\", \"Fairly easy to read, suitable for most audiences.\"\n",
    "        else:\n",
    "            return \"High\", \"Difficult to read, suitable for advanced readers.\"\n",
    "    elif metric == \"Spache\":\n",
    "        if score <= 2:\n",
    "            return \"Low\", \"Very easy to read, suitable for younger children.\"\n",
    "        elif score <= 4:\n",
    "            return \"Medium\", \"Fairly easy to read, suitable for primary school children.\"\n",
    "        else:\n",
    "            return \"High\", \"Difficult to read, contains more complex vocabulary.\"\n",
    "    elif metric == \"Linsear Write\":\n",
    "        if score <= 5:\n",
    "            return \"Low\", \"Very easy to read, suitable for younger audiences.\"\n",
    "        elif score <= 10:\n",
    "            return \"Medium\", \"Fairly easy to read, suitable for most audiences.\"\n",
    "        else:\n",
    "            return \"High\", \"Difficult to read, suitable for advanced readers.\"\n",
    "\n",
    "# Creating a table\n",
    "table = \"| Metric                         | Score | Interpretation | Description                                    | Text Value                  |\\n\"\n",
    "table += \"| ----------------------------- | ----- | -------------- | ---------------------------------------------- | --------------------------- |\\n\"\n",
    "\n",
    "for metric, score in metrics.items():\n",
    "    interpretation, description = interpret_score(metric, score)\n",
    "    text_value = f\"Score: {score}\"\n",
    "    table += f\"| {metric:<29} | {score:<5} | {interpretation:<14} | {description:<44} | {text_value:<27} |\\n\"\n",
    "\n",
    "print(table)"
   ]
  },
  {
   "cell_type": "code",
   "execution_count": 29,
   "metadata": {},
   "outputs": [
    {
     "data": {
      "text/html": [
       "<div>\n",
       "<style scoped>\n",
       "    .dataframe tbody tr th:only-of-type {\n",
       "        vertical-align: middle;\n",
       "    }\n",
       "\n",
       "    .dataframe tbody tr th {\n",
       "        vertical-align: top;\n",
       "    }\n",
       "\n",
       "    .dataframe thead th {\n",
       "        text-align: right;\n",
       "    }\n",
       "</style>\n",
       "<table border=\"1\" class=\"dataframe\">\n",
       "  <thead>\n",
       "    <tr style=\"text-align: right;\">\n",
       "      <th></th>\n",
       "      <th>Metric</th>\n",
       "      <th>Score</th>\n",
       "      <th>Grade Level</th>\n",
       "      <th>Ease</th>\n",
       "      <th>Explanation</th>\n",
       "    </tr>\n",
       "  </thead>\n",
       "  <tbody>\n",
       "    <tr>\n",
       "      <th>0</th>\n",
       "      <td>Flesch-Kincaid Grade Level</td>\n",
       "      <td>15.045128</td>\n",
       "      <td>15</td>\n",
       "      <td>None</td>\n",
       "      <td>The Flesch-Kincaid Grade Level indicates the U...</td>\n",
       "    </tr>\n",
       "    <tr>\n",
       "      <th>1</th>\n",
       "      <td>Flesch Reading Ease</td>\n",
       "      <td>36.162425</td>\n",
       "      <td>None</td>\n",
       "      <td>difficult</td>\n",
       "      <td>The Flesch Reading Ease score rates text on a ...</td>\n",
       "    </tr>\n",
       "  </tbody>\n",
       "</table>\n",
       "</div>"
      ],
      "text/plain": [
       "                       Metric      Score Grade Level       Ease  \\\n",
       "0  Flesch-Kincaid Grade Level  15.045128          15       None   \n",
       "1         Flesch Reading Ease  36.162425        None  difficult   \n",
       "\n",
       "                                         Explanation  \n",
       "0  The Flesch-Kincaid Grade Level indicates the U...  \n",
       "1  The Flesch Reading Ease score rates text on a ...  "
      ]
     },
     "execution_count": 29,
     "metadata": {},
     "output_type": "execute_result"
    }
   ],
   "source": [
    "import pandas as pd \n",
    "\n",
    "# Readability class would be defined as per the given source code\n",
    "r = Readability(text)\n",
    "\n",
    "# Generate the data using the methods from the Readability class\n",
    "fk = r.flesch_kincaid()\n",
    "f = r.flesch()\n",
    "\n",
    "# Create a dictionary with the data\n",
    "data = {\n",
    "    'Metric': ['Flesch-Kincaid Grade Level', 'Flesch Reading Ease'],\n",
    "    'Score': [fk.score, f.score],  # Example scores\n",
    "    'Grade Level': [fk.grade_level, None],  # Grade Level for Flesch-Kincaid\n",
    "    'Ease': [None, f.ease],  # Ease score for Flesch Reading Ease\n",
    "    'Explanation': [\n",
    "        \"The Flesch-Kincaid Grade Level indicates the U.S. school grade level required to understand the text. Suitable for 13-14-year-olds (Grade 8). Lower score means easier readability. Typically ranges from 0 to 12. Basic: 0-6, Average: 7-10, Skilled: 11-12.\",\n",
    "        \"The Flesch Reading Ease score rates text on a 100-point scale. Higher scores indicate easier readability. Scores of 90-100 are easily understood by 11-year-olds. Scores of 60-70 are understood by 13- to 15-year-olds. Typically ranges from 0 to 100. Easy: 60-100, Difficult: 0-59.\"\n",
    "    ]\n",
    "}\n",
    "\n",
    "# Creating the DataFrame\n",
    "df = pd.DataFrame(data)\n",
    "df"
   ]
  },
  {
   "cell_type": "code",
   "execution_count": 30,
   "metadata": {},
   "outputs": [
    {
     "data": {
      "text/markdown": [
       "| Metric                     |   Score |   Grade Level | Ease      | Explanation                                                                                                                                                                                                                                                                             |\n",
       "|:---------------------------|--------:|--------------:|:----------|:----------------------------------------------------------------------------------------------------------------------------------------------------------------------------------------------------------------------------------------------------------------------------------------|\n",
       "| Flesch-Kincaid Grade Level | 15.0451 |            15 |           | The Flesch-Kincaid Grade Level indicates the U.S. school grade level required to understand the text. Suitable for 13-14-year-olds (Grade 8). Lower score means easier readability. Typically ranges from 0 to 12. Basic: 0-6, Average: 7-10, Skilled: 11-12.                           |\n",
       "| Flesch Reading Ease        | 36.1624 |               | difficult | The Flesch Reading Ease score rates text on a 100-point scale. Higher scores indicate easier readability. Scores of 90-100 are easily understood by 11-year-olds. Scores of 60-70 are understood by 13- to 15-year-olds. Typically ranges from 0 to 100. Easy: 60-100, Difficult: 0-59. |"
      ],
      "text/plain": [
       "<IPython.core.display.Markdown object>"
      ]
     },
     "execution_count": 30,
     "metadata": {},
     "output_type": "execute_result"
    }
   ],
   "source": [
    "from IPython.display import Markdown\n",
    "# Convert DataFrame to markdown\n",
    "markdown_table = df.to_markdown(index=False)\n",
    "\n",
    "\n",
    "\n",
    "Markdown(markdown_table)"
   ]
  },
  {
   "cell_type": "code",
   "execution_count": null,
   "metadata": {},
   "outputs": [],
   "source": []
  }
 ],
 "metadata": {
  "kernelspec": {
   "display_name": "Python 3",
   "language": "python",
   "name": "python3"
  },
  "language_info": {
   "codemirror_mode": {
    "name": "ipython",
    "version": 3
   },
   "file_extension": ".py",
   "mimetype": "text/x-python",
   "name": "python",
   "nbconvert_exporter": "python",
   "pygments_lexer": "ipython3",
   "version": "3.10.13"
  }
 },
 "nbformat": 4,
 "nbformat_minor": 2
}
