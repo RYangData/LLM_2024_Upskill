{
 "cells": [
  {
   "cell_type": "markdown",
   "id": "b5789bc3-b1ae-42c7-94a8-2ef4f89946fc",
   "metadata": {},
   "source": [
    "# Lesson 4: Persistence and Streaming"
   ]
  },
  {
   "cell_type": "code",
   "execution_count": 1,
   "id": "f5762271-8736-4e94-9444-8c92bd0e8074",
   "metadata": {
    "height": 64
   },
   "outputs": [],
   "source": [
    "from dotenv import load_dotenv\n",
    "\n",
    "_ = load_dotenv()"
   ]
  },
  {
   "cell_type": "code",
   "execution_count": 2,
   "id": "d0168aee-bce9-4d60-b827-f86a88187e31",
   "metadata": {
    "height": 115
   },
   "outputs": [],
   "source": [
    "from langgraph.graph import StateGraph, END\n",
    "from typing import TypedDict, Annotated\n",
    "import operator\n",
    "from langchain_core.messages import AnyMessage, SystemMessage, HumanMessage, ToolMessage\n",
    "from langchain_openai import ChatOpenAI\n",
    "from langchain_community.tools.tavily_search import TavilySearchResults"
   ]
  },
  {
   "cell_type": "code",
   "execution_count": 3,
   "id": "da06a64f-a2d5-4a66-8090-9ada0930c684",
   "metadata": {
    "height": 30
   },
   "outputs": [],
   "source": [
    "tool = TavilySearchResults(max_results=2)"
   ]
  },
  {
   "cell_type": "code",
   "execution_count": 4,
   "id": "2589c5b6-6cc2-4594-9a17-dccdcf676054",
   "metadata": {
    "height": 47
   },
   "outputs": [],
   "source": [
    "class AgentState(TypedDict):\n",
    "    messages: Annotated[list[AnyMessage], operator.add]"
   ]
  },
  {
   "cell_type": "code",
   "execution_count": 5,
   "id": "9c033522-d2fc-41ac-8e3c-5e35872bf88d",
   "metadata": {
    "height": 64
   },
   "outputs": [],
   "source": [
    "from langgraph.checkpoint.sqlite import SqliteSaver\n",
    "\n",
    "memory = SqliteSaver.from_conn_string(\":memory:\") # in memory database! - can be leverages to use postgres and redis"
   ]
  },
  {
   "cell_type": "code",
   "execution_count": 10,
   "id": "a2ba84ec-c172-4de7-ac55-e3158a531b23",
   "metadata": {
    "height": 574
   },
   "outputs": [],
   "source": [
    "class Agent:\n",
    "    def __init__(self, model, tools, checkpointer, system=\"\"):\n",
    "        # Checkpointer adds persistance! - Using SQL lite - in memory DB.. \n",
    "            # Can be connected to external DB - redis/postgres.. \n",
    "        self.system = system\n",
    "        graph = StateGraph(AgentState)\n",
    "        graph.add_node(\"llm\", self.call_openai)\n",
    "        graph.add_node(\"action\", self.take_action)\n",
    "        graph.add_conditional_edges(\"llm\", self.exists_action, {True: \"action\", False: END})\n",
    "        graph.add_edge(\"action\", \"llm\")\n",
    "        graph.set_entry_point(\"llm\")\n",
    "        self.graph = graph.compile(checkpointer=checkpointer)\n",
    "        self.tools = {t.name: t for t in tools}\n",
    "        self.model = model.bind_tools(tools)\n",
    "\n",
    "    def call_openai(self, state: AgentState):\n",
    "        messages = state['messages']\n",
    "        if self.system:\n",
    "            messages = [SystemMessage(content=self.system)] + messages\n",
    "        message = self.model.invoke(messages)\n",
    "        return {'messages': [message]}\n",
    "\n",
    "    def exists_action(self, state: AgentState):\n",
    "        result = state['messages'][-1]\n",
    "        return len(result.tool_calls) > 0\n",
    "\n",
    "    def take_action(self, state: AgentState):\n",
    "        tool_calls = state['messages'][-1].tool_calls\n",
    "        results = []\n",
    "        for t in tool_calls:\n",
    "            print(f\"Calling: {t}\")\n",
    "            result = self.tools[t['name']].invoke(t['args'])\n",
    "            results.append(ToolMessage(tool_call_id=t['id'], name=t['name'], content=str(result)))\n",
    "        print(\"Back to the model!\")\n",
    "        return {'messages': results}"
   ]
  },
  {
   "cell_type": "code",
   "execution_count": 11,
   "id": "876d5092-b8ef-4e38-b4d7-0e80c609bf7a",
   "metadata": {
    "height": 132
   },
   "outputs": [],
   "source": [
    "prompt = \"\"\"You are a smart research assistant. Use the search engine to look up information. \\\n",
    "You are allowed to make multiple calls (either together or in sequence). \\\n",
    "Only look up information when you are sure of what you want. \\\n",
    "If you need to look up some information before asking a follow up question, you are allowed to do that!\n",
    "\"\"\"\n",
    "model = ChatOpenAI(model=\"gpt-4o\")\n",
    "abot = Agent(model, [tool], system=prompt, checkpointer=memory)"
   ]
  },
  {
   "cell_type": "code",
   "execution_count": 15,
   "id": "10084a02-2928-4945-9f7c-ad3f5b33caf7",
   "metadata": {
    "height": 30
   },
   "outputs": [],
   "source": [
    "messages = [HumanMessage(content=\"What is the weather in Melbourne victoria?\")]"
   ]
  },
  {
   "cell_type": "code",
   "execution_count": 16,
   "id": "714d1205-f8fc-4912-b148-2a45da99219c",
   "metadata": {
    "height": 30
   },
   "outputs": [],
   "source": [
    "thread = {\"configurable\": {\"thread_id\": \"1\"}}"
   ]
  },
  {
   "cell_type": "code",
   "execution_count": 17,
   "id": "83588e70-254f-4f83-a510-c8ae81e729b0",
   "metadata": {
    "height": 64
   },
   "outputs": [
    {
     "name": "stdout",
     "output_type": "stream",
     "text": [
      "[AIMessage(content='', additional_kwargs={'tool_calls': [{'id': 'call_2gD6Aa6ltvg8T3rpzPjb1fES', 'function': {'arguments': '{\"query\":\"current weather in Melbourne Victoria\"}', 'name': 'tavily_search_results_json'}, 'type': 'function'}]}, response_metadata={'token_usage': {'completion_tokens': 22, 'prompt_tokens': 748, 'total_tokens': 770}, 'model_name': 'gpt-4o', 'system_fingerprint': 'fp_d576307f90', 'finish_reason': 'tool_calls', 'logprobs': None}, id='run-4f45a883-00a0-47b8-bf26-9dd46f657e6c-0', tool_calls=[{'name': 'tavily_search_results_json', 'args': {'query': 'current weather in Melbourne Victoria'}, 'id': 'call_2gD6Aa6ltvg8T3rpzPjb1fES'}])]\n",
      "Calling: {'name': 'tavily_search_results_json', 'args': {'query': 'current weather in Melbourne Victoria'}, 'id': 'call_2gD6Aa6ltvg8T3rpzPjb1fES'}\n",
      "Back to the model!\n",
      "[ToolMessage(content=\"HTTPError('502 Server Error: Bad Gateway for url: https://api.tavily.com/search')\", name='tavily_search_results_json', tool_call_id='call_2gD6Aa6ltvg8T3rpzPjb1fES')]\n",
      "[AIMessage(content='', additional_kwargs={'tool_calls': [{'id': 'call_Q87k0Vq9LFvsEDpFbRntuxEr', 'function': {'arguments': '{\"query\":\"current weather in Melbourne, Victoria\"}', 'name': 'tavily_search_results_json'}, 'type': 'function'}]}, response_metadata={'token_usage': {'completion_tokens': 23, 'prompt_tokens': 803, 'total_tokens': 826}, 'model_name': 'gpt-4o', 'system_fingerprint': 'fp_d576307f90', 'finish_reason': 'tool_calls', 'logprobs': None}, id='run-6c49dee3-f6ff-4031-b2ab-14bd87160ce0-0', tool_calls=[{'name': 'tavily_search_results_json', 'args': {'query': 'current weather in Melbourne, Victoria'}, 'id': 'call_Q87k0Vq9LFvsEDpFbRntuxEr'}])]\n",
      "Calling: {'name': 'tavily_search_results_json', 'args': {'query': 'current weather in Melbourne, Victoria'}, 'id': 'call_Q87k0Vq9LFvsEDpFbRntuxEr'}\n",
      "Back to the model!\n",
      "[ToolMessage(content='[{\\'url\\': \\'http://www.bom.gov.au/vic/forecasts/melbourne.shtml\\', \\'content\\': \\'Melbourne area. Partly cloudy. Patches of morning frost in the northeast suburbs. Slight chance of a shower. Light winds. The next routine forecast will be issued at 4:20 pm EST Friday. Product IDV10450. Provides access to Australian weather forecasts, weather observations, flood warnings and high sea forecasts from each state and territory ...\\'}, {\\'url\\': \\'https://www.weatherapi.com/\\', \\'content\\': \"{\\'location\\': {\\'name\\': \\'Melbourne\\', \\'region\\': \\'Victoria\\', \\'country\\': \\'Australia\\', \\'lat\\': -37.82, \\'lon\\': 144.97, \\'tz_id\\': \\'Australia/Melbourne\\', \\'localtime_epoch\\': 1719584006, \\'localtime\\': \\'2024-06-29 0:13\\'}, \\'current\\': {\\'last_updated_epoch\\': 1719583200, \\'last_updated\\': \\'2024-06-29 00:00\\', \\'temp_c\\': 12.4, \\'temp_f\\': 54.3, \\'is_day\\': 0, \\'condition\\': {\\'text\\': \\'Partly cloudy\\', \\'icon\\': \\'//cdn.weatherapi.com/weather/64x64/night/116.png\\', \\'code\\': 1003}, \\'wind_mph\\': 23.0, \\'wind_kph\\': 37.1, \\'wind_degree\\': 10, \\'wind_dir\\': \\'N\\', \\'pressure_mb\\': 1015.0, \\'pressure_in\\': 29.97, \\'precip_mm\\': 0.0, \\'precip_in\\': 0.0, \\'humidity\\': 58, \\'cloud\\': 75, \\'feelslike_c\\': 9.7, \\'feelslike_f\\': 49.4, \\'windchill_c\\': 10.6, \\'windchill_f\\': 51.0, \\'heatindex_c\\': 13.1, \\'heatindex_f\\': 55.5, \\'dewpoint_c\\': 2.4, \\'dewpoint_f\\': 36.2, \\'vis_km\\': 10.0, \\'vis_miles\\': 6.0, \\'uv\\': 1.0, \\'gust_mph\\': 28.6, \\'gust_kph\\': 46.0}}\"}]', name='tavily_search_results_json', tool_call_id='call_Q87k0Vq9LFvsEDpFbRntuxEr')]\n",
      "[AIMessage(content='The current weather in Melbourne, Victoria is partly cloudy with a temperature of 12.4°C (54.3°F). The wind is blowing from the north at a speed of 37.1 kph (23.0 mph). The humidity level is 58%, and visibility is 10 km (6 miles).', response_metadata={'token_usage': {'completion_tokens': 66, 'prompt_tokens': 1336, 'total_tokens': 1402}, 'model_name': 'gpt-4o', 'system_fingerprint': 'fp_d576307f90', 'finish_reason': 'stop', 'logprobs': None}, id='run-dd4138f7-a7a9-4d8a-a758-9e2522e2584c-0')]\n"
     ]
    }
   ],
   "source": [
    "for event in abot.graph.stream({\"messages\": messages}, thread):\n",
    "    for v in event.values():\n",
    "        print(v['messages'])"
   ]
  },
  {
   "cell_type": "code",
   "execution_count": 20,
   "id": "6cb3ef4c-58b3-401b-b104-0d51e553d982",
   "metadata": {
    "height": 98
   },
   "outputs": [
    {
     "name": "stdout",
     "output_type": "stream",
     "text": [
      "{'messages': [AIMessage(content='', additional_kwargs={'tool_calls': [{'id': 'call_31GYvrI0OOtwyGM3iQl2J6Qo', 'function': {'arguments': '{\"query\":\"current weather in Perth, WA\"}', 'name': 'tavily_search_results_json'}, 'type': 'function'}]}, response_metadata={'token_usage': {'completion_tokens': 23, 'prompt_tokens': 2159, 'total_tokens': 2182}, 'model_name': 'gpt-4o', 'system_fingerprint': 'fp_ce0793330f', 'finish_reason': 'tool_calls', 'logprobs': None}, id='run-9bf264aa-3c79-4e35-b3c2-1c59f4635a4d-0', tool_calls=[{'name': 'tavily_search_results_json', 'args': {'query': 'current weather in Perth, WA'}, 'id': 'call_31GYvrI0OOtwyGM3iQl2J6Qo'}])]}\n",
      "Calling: {'name': 'tavily_search_results_json', 'args': {'query': 'current weather in Perth, WA'}, 'id': 'call_31GYvrI0OOtwyGM3iQl2J6Qo'}\n",
      "Back to the model!\n",
      "{'messages': [ToolMessage(content='[{\\'url\\': \\'https://www.weatherapi.com/\\', \\'content\\': \"{\\'location\\': {\\'name\\': \\'Perth\\', \\'region\\': \\'Western Australia\\', \\'country\\': \\'Australia\\', \\'lat\\': -31.93, \\'lon\\': 115.83, \\'tz_id\\': \\'Australia/Perth\\', \\'localtime_epoch\\': 1719584185, \\'localtime\\': \\'2024-06-28 22:16\\'}, \\'current\\': {\\'last_updated_epoch\\': 1719584100, \\'last_updated\\': \\'2024-06-28 22:15\\', \\'temp_c\\': 14.0, \\'temp_f\\': 57.2, \\'is_day\\': 0, \\'condition\\': {\\'text\\': \\'Partly cloudy\\', \\'icon\\': \\'//cdn.weatherapi.com/weather/64x64/night/116.png\\', \\'code\\': 1003}, \\'wind_mph\\': 10.5, \\'wind_kph\\': 16.9, \\'wind_degree\\': 150, \\'wind_dir\\': \\'SSE\\', \\'pressure_mb\\': 1016.0, \\'pressure_in\\': 30.0, \\'precip_mm\\': 0.0, \\'precip_in\\': 0.0, \\'humidity\\': 72, \\'cloud\\': 25, \\'feelslike_c\\': 12.2, \\'feelslike_f\\': 53.9, \\'windchill_c\\': 12.6, \\'windchill_f\\': 54.6, \\'heatindex_c\\': 14.3, \\'heatindex_f\\': 57.8, \\'dewpoint_c\\': 9.4, \\'dewpoint_f\\': 48.9, \\'vis_km\\': 10.0, \\'vis_miles\\': 6.0, \\'uv\\': 1.0, \\'gust_mph\\': 21.2, \\'gust_kph\\': 34.2}}\"}, {\\'url\\': \\'http://www.bom.gov.au/climate/dwo/202406/html/IDCJDW6111.202406.shtml\\', \\'content\\': \\'IDCJDW6111.202406 Prepared at 08:20 UTC on Sunday 23 June 2024. Source of data. Temperature, humidity, wind, pressure and rainfall observations are from Perth Metro {station 009225}.\\'}]', name='tavily_search_results_json', tool_call_id='call_31GYvrI0OOtwyGM3iQl2J6Qo')]}\n",
      "{'messages': [AIMessage(content='The current weather in Perth, Western Australia is partly cloudy with a temperature of 14.0°C (57.2°F). The wind is blowing from the south-southeast at a speed of 16.9 kph (10.5 mph). The humidity level is 72%, and visibility is 10 km (6 miles).', response_metadata={'token_usage': {'completion_tokens': 70, 'prompt_tokens': 2680, 'total_tokens': 2750}, 'model_name': 'gpt-4o', 'system_fingerprint': 'fp_ce0793330f', 'finish_reason': 'stop', 'logprobs': None}, id='run-165babc9-4e30-4013-ab48-572f199f3504-0')]}\n"
     ]
    }
   ],
   "source": [
    "messages = [HumanMessage(content=\"What about in perth?\")]\n",
    "thread = {\"configurable\": {\"thread_id\": \"1\"}}\n",
    "for event in abot.graph.stream({\"messages\": messages}, thread):\n",
    "    for v in event.values():\n",
    "        print(v)"
   ]
  },
  {
   "cell_type": "code",
   "execution_count": 21,
   "id": "dc3293b7-a50c-43c8-a022-8975e1e444b8",
   "metadata": {
    "height": 98
   },
   "outputs": [
    {
     "name": "stdout",
     "output_type": "stream",
     "text": [
      "{'messages': [AIMessage(content='Between Melbourne, Sydney, and Perth, the current temperatures are as follows:\\n\\n- **Melbourne:** 12.4°C (54.3°F)\\n- **Sydney:** Please check [AccuWeather](https://www.accuweather.com/en/au/sydney/22889/weather-forecast/22889) for the latest temperature.\\n- **Perth:** 14.0°C (57.2°F)\\n\\nBased on the provided data, **Perth** is currently the warmest with a temperature of 14.0°C (57.2°F).', response_metadata={'token_usage': {'completion_tokens': 116, 'prompt_tokens': 2762, 'total_tokens': 2878}, 'model_name': 'gpt-4o', 'system_fingerprint': 'fp_4008e3b719', 'finish_reason': 'stop', 'logprobs': None}, id='run-743f0be2-2b3f-48c8-87ad-7c4068159a3f-0')]}\n"
     ]
    }
   ],
   "source": [
    "messages = [HumanMessage(content=\"Which one is warmer?\")]\n",
    "thread = {\"configurable\": {\"thread_id\": \"1\"}}\n",
    "for event in abot.graph.stream({\"messages\": messages}, thread):\n",
    "    for v in event.values():\n",
    "        print(v)"
   ]
  },
  {
   "cell_type": "code",
   "execution_count": 22,
   "id": "0722c3d4-4cbf-43bf-81b0-50f634c4ce61",
   "metadata": {
    "height": 98
   },
   "outputs": [
    {
     "name": "stdout",
     "output_type": "stream",
     "text": [
      "{'messages': [AIMessage(content='Could you please clarify what you are comparing for warmth? Are you referring to the current temperatures of specific locations, the warmth of different materials, or something else?', response_metadata={'token_usage': {'completion_tokens': 33, 'prompt_tokens': 149, 'total_tokens': 182}, 'model_name': 'gpt-4o', 'system_fingerprint': 'fp_ce0793330f', 'finish_reason': 'stop', 'logprobs': None}, id='run-cc0eb814-7e20-4f89-a6e2-7880fc29f3ab-0')]}\n"
     ]
    }
   ],
   "source": [
    "messages = [HumanMessage(content=\"Which one is warmer?\")]\n",
    "thread = {\"configurable\": {\"thread_id\": \"2\"}}\n",
    "for event in abot.graph.stream({\"messages\": messages}, thread):\n",
    "    for v in event.values():\n",
    "        print(v)"
   ]
  },
  {
   "cell_type": "markdown",
   "id": "ace59a36-3941-459e-b9d1-ac5a4a1ed3ae",
   "metadata": {},
   "source": [
    "## Streaming tokens"
   ]
  },
  {
   "cell_type": "code",
   "execution_count": 26,
   "id": "6b2f82fe-3ec4-4917-be51-9fb10d1317fa",
   "metadata": {
    "height": 81
   },
   "outputs": [],
   "source": [
    "from langgraph.checkpoint.aiosqlite import AsyncSqliteSaver\n",
    "\n",
    "memory = AsyncSqliteSaver.from_conn_string(\":memory:\")\n",
    "abot = Agent(model, [tool], system=prompt, checkpointer=memory)"
   ]
  },
  {
   "cell_type": "code",
   "execution_count": 27,
   "id": "ee0fe1c7-77e2-499c-a2f9-1f739bb6ddf0",
   "metadata": {
    "height": 200
   },
   "outputs": [
    {
     "name": "stdout",
     "output_type": "stream",
     "text": [
      "Calling: {'name': 'tavily_search_results_json', 'args': {'query': 'current weather in Melbourne Australia'}, 'id': 'call_gfHMGiDA5ntnWNOesSh2OBt0'}\n",
      "Back to the model!\n"
     ]
    }
   ],
   "source": [
    "messages = [HumanMessage(content=\"What is the weather in Melbourne Aus?\")]\n",
    "thread = {\"configurable\": {\"thread_id\": \"4\"}}\n",
    "async for event in abot.graph.astream_events({\"messages\": messages}, thread, version=\"v1\"):\n",
    "    kind = event[\"event\"]\n",
    "    if kind == \"on_chat_model_stream\":\n",
    "        content = event[\"data\"][\"chunk\"].content\n",
    "        if content:\n",
    "            # Empty content in the context of OpenAI means\n",
    "            # that the model is asking for a tool to be invoked.\n",
    "            # So we only print non-empty content\n",
    "            print(content, end=\"|\")"
   ]
  },
  {
   "cell_type": "code",
   "execution_count": null,
   "id": "98f303b1-a4d0-408c-8cc0-515ff980717f",
   "metadata": {
    "height": 30
   },
   "outputs": [],
   "source": []
  }
 ],
 "metadata": {
  "kernelspec": {
   "display_name": "Python 3 (ipykernel)",
   "language": "python",
   "name": "python3"
  },
  "language_info": {
   "codemirror_mode": {
    "name": "ipython",
    "version": 3
   },
   "file_extension": ".py",
   "mimetype": "text/x-python",
   "name": "python",
   "nbconvert_exporter": "python",
   "pygments_lexer": "ipython3",
   "version": "3.10.13"
  }
 },
 "nbformat": 4,
 "nbformat_minor": 5
}
